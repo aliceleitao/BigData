{
 "cells": [
  {
   "cell_type": "code",
   "execution_count": null,
   "id": "b1f691db-0d60-4c1f-803c-bc52a0e377f8",
   "metadata": {},
   "outputs": [],
   "source": [
    "import sys\n",
    "\n",
    "\n",
    "TAB_CHAR = '\\t'\n",
    "\n",
    "lastKey = None\n",
    "a = 0\n",
    "s = 0\n",
    "count = 0\n",
    "\n",
    "for line in sys.stdin:\n",
    "    key, value = line.strip().split(TAB_CHAR)\n",
    "\n",
    "    if lastKey and lastKey != key:\n",
    "        print(lastKey + TAB_CHAR + 'Number char:' + str(a) + TAB_CHAR + 'Number words:' + str(s))\n",
    "        lastKey = key\n",
    "        a = len(key)\n",
    "        s = int(value)\n",
    "    else:\n",
    "        lastKey = key\n",
    "        a = len(str(key))\n",
    "        s += int(value)\n",
    "    \n",
    "    count +=1\n",
    "\n",
    "    \n",
    "\n",
    "if lastKey:\n",
    "    print(lastKey + TAB_CHAR + 'Number char:' + str(a) + TAB_CHAR  + 'Number words:' + str(s) + TAB_CHAR + '\\n' +  'Line Number:' + str(count))"
   ]
  }
 ],
 "metadata": {
  "kernelspec": {
   "display_name": "Python 3",
   "language": "python",
   "name": "python3"
  },
  "language_info": {
   "codemirror_mode": {
    "name": "ipython",
    "version": 3
   },
   "file_extension": ".py",
   "mimetype": "text/x-python",
   "name": "python",
   "nbconvert_exporter": "python",
   "pygments_lexer": "ipython3",
   "version": "3.8.8"
  }
 },
 "nbformat": 4,
 "nbformat_minor": 5
}
